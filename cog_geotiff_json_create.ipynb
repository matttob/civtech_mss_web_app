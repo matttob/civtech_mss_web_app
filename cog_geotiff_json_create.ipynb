{
 "cells": [
  {
   "attachments": {},
   "cell_type": "markdown",
   "metadata": {},
   "source": [
    "# create Json for each survery\n",
    "\n",
    "0) geo tiff aws ARN\n",
    "1) polygon bounds\n",
    "2) survey date      \n",
    "3) species types\n",
    "4) species metrics\n",
    "5) species ID file ARN"
   ]
  },
  {
   "cell_type": "code",
   "execution_count": 59,
   "metadata": {},
   "outputs": [],
   "source": [
    "\n",
    "import json\n",
    "import httpx\n",
    "from shapely.geometry import Polygon\n",
    "\n",
    "COG_arn = 'https://tiletesting.s3.eu-west-2.amazonaws.com/COG_GDAL_crack_diverModel_Orthomosaic.tif'\n",
    "\n",
    "COG_arn_species = \"https://tiletesting.s3.eu-west-2.amazonaws.com/COG_GDAL_crack_species_only_Orthomosaic_downsample.tif\"\n",
    "\n",
    "json_out_path = \"/Users/matthewtoberman/Dropbox/TRITONIA/CIVTECH/PORTAL/meta_data/ard_bay_2022.json\"\n",
    "\n",
    "\n",
    "titiler_endpoint= \"https://os8ci3nx02.execute-api.eu-west-2.amazonaws.com\"  # titiler running on AWS Lamda\n",
    "\n",
    "\n",
    "def whole_geotiff_polygon(url):\n",
    "    bounded_data = httpx.get(\n",
    "    f\"{titiler_endpoint}/cog/bounds\",\n",
    "    params = {\n",
    "        \"url\": url,\n",
    "        }\n",
    "    ).json()\n",
    "    entire_geotiff_poly = Polygon([[bounded_data['bounds'][0],bounded_data['bounds'][1]],\n",
    "                      [bounded_data['bounds'][2],bounded_data['bounds'][1]],\n",
    "                      [bounded_data['bounds'][2],bounded_data['bounds'][3]],\n",
    "                      [bounded_data['bounds'][0],bounded_data['bounds'][3]]])\n",
    "    return entire_geotiff_poly\n",
    " \n",
    "def get_centre_geotiff(url):\n",
    "    bounded_data = httpx.get(\n",
    "    f\"{titiler_endpoint}/cog/bounds\",\n",
    "    params = {\n",
    "        \"url\": url,\n",
    "        }\n",
    "    ).json()\n",
    "    center_lon = (bounded_data['bounds'][2]+bounded_data['bounds'][0])/2\n",
    "    center_lat = (bounded_data['bounds'][1]+bounded_data['bounds'][3])/2\n",
    "    centre_coords = [center_lon,center_lat]\n",
    "    return centre_coords\n",
    "\n",
    "\n",
    "\n",
    "# Data to be written\n",
    "dictionary = {\n",
    "    \"survey_dash_id\": \"ard_bay_2022\",\n",
    "    \"survey_long_name\": \"Ardmucknish Bay 2022\",\n",
    "    \"COG_ARN\" : COG_arn,\n",
    "    \"COG_ARN_species\" : COG_arn_species,\n",
    "    \"COG_species_filename\" : \"/Users/matthewtoberman/Dropbox/TRITONIA/CIVTECH/PORTAL/data/crack_species_only_Orthomosaic_downsample.tif\" , \n",
    "    \"survey_date\": '01/01/2022',\n",
    "    \"species_name\": \"Alcyonium digitatum\",\n",
    "    \"number_of_individuals\" : 'N/A',\n",
    "    'species_m2':8,\n",
    "    \"centre_coords\" :list(reversed(get_centre_geotiff(COG_arn))),\n",
    "    \"nat_cap_potential_description\" : 'Medium',\n",
    "    \"nat_cap_number\" : 50,\n",
    "    \"nat_cap_value\" : ' 0.5 million dollars'\n",
    "    \n",
    "}\n",
    " \n",
    "# Serializing json\n",
    "json_object = json.dumps(dictionary, indent=4)\n",
    " \n",
    "# Writing to sample.json\n",
    "with open(json_out_path, \"w\") as outfile:\n",
    "    outfile.write(json_object)\n",
    "\n"
   ]
  },
  {
   "cell_type": "code",
   "execution_count": 61,
   "metadata": {},
   "outputs": [],
   "source": [
    "import json\n",
    "import httpx\n",
    "from shapely.geometry import Polygon\n",
    "\n",
    "COG_arn = 'https://tiletesting.s3.eu-west-2.amazonaws.com/COG_GDAL_CrereanSerpOrthoCropped.tif'\n",
    "\n",
    "COG_arn_species = \"https://tiletesting.s3.eu-west-2.amazonaws.com/COG_GDAL_CreranSerpClassified_downsample.tif\"\n",
    "\n",
    "json_out_path = \"/Users/matthewtoberman/Dropbox/TRITONIA/CIVTECH/PORTAL/meta_data/creran_2023.json\"\n",
    "\n",
    "\n",
    "titiler_endpoint= \"https://os8ci3nx02.execute-api.eu-west-2.amazonaws.com\"  # titiler running on AWS Lamda\n",
    "\n",
    "\n",
    "def whole_geotiff_polygon(url):\n",
    "    bounded_data = httpx.get(\n",
    "    f\"{titiler_endpoint}/cog/bounds\",\n",
    "    params = {\n",
    "        \"url\": url,\n",
    "        }\n",
    "    ).json()\n",
    "    entire_geotiff_poly = Polygon([[bounded_data['bounds'][0],bounded_data['bounds'][1]],\n",
    "                      [bounded_data['bounds'][2],bounded_data['bounds'][1]],\n",
    "                      [bounded_data['bounds'][2],bounded_data['bounds'][3]],\n",
    "                      [bounded_data['bounds'][0],bounded_data['bounds'][3]]])\n",
    "    return entire_geotiff_poly\n",
    " \n",
    "def get_centre_geotiff(url):\n",
    "    bounded_data = httpx.get(\n",
    "    f\"{titiler_endpoint}/cog/bounds\",\n",
    "    params = {\n",
    "        \"url\": url,\n",
    "        }\n",
    "    ).json()\n",
    "    center_lon = (bounded_data['bounds'][2]+bounded_data['bounds'][0])/2\n",
    "    center_lat = (bounded_data['bounds'][1]+bounded_data['bounds'][3])/2\n",
    "    centre_coords = [center_lon,center_lat]\n",
    "    return centre_coords\n",
    "\n",
    "\n",
    "\n",
    "# Data to be written\n",
    "dictionary = {\n",
    "    \"survey_dash_id\": \"creran_2023\",\n",
    "    \"survey_long_name\": \"Creran 2023\",\n",
    "    \"COG_ARN\" : COG_arn,\n",
    "    \"COG_ARN_species\" : COG_arn_species,\n",
    "    \"COG_species_filename\" : \"/Users/matthewtoberman/Dropbox/TRITONIA/CIVTECH/PORTAL/ortho_geotiff/CreranSerpClassified_downsample.tif\" , \n",
    "    \"survey_date\": '01/02/2023',\n",
    "    \"species_name\": \"Serpula vermicularis\",\n",
    "    \"number_of_individuals\" : 31,\n",
    "    'species_m2':4,\n",
    "    \"centre_coords\" :list(reversed(get_centre_geotiff(COG_arn))),\n",
    "    \"nat_cap_potential_description\" : 'High',\n",
    "    \"nat_cap_number\" : 100,\n",
    "    \"nat_cap_value\" : ' 1 million dollars'\n",
    "\n",
    "    \n",
    "}\n",
    " \n",
    "# Serializing json\n",
    "json_object = json.dumps(dictionary, indent=4)\n",
    " \n",
    "# Writing to sample.json\n",
    "with open(json_out_path, \"w\") as outfile:\n",
    "    outfile.write(json_object)\n"
   ]
  },
  {
   "cell_type": "code",
   "execution_count": 7,
   "metadata": {},
   "outputs": [
    {
     "name": "stdout",
     "output_type": "stream",
     "text": [
      "Using band 4 of source image as alpha.\n",
      "Creating output file that is 5000P x 1420L.\n",
      "0...10...20...30...40...50...60...70...80...90...100 - done.\n"
     ]
    },
    {
     "data": {
      "text/plain": [
       "0"
      ]
     },
     "execution_count": 7,
     "metadata": {},
     "output_type": "execute_result"
    }
   ],
   "source": [
    "import os\n",
    "\n",
    "os.system(' gdalwarp -of COG  -co COMPRESS=DEFLATE /Users/matthewtoberman/Dropbox/TRITONIA/CIVTECH/PORTAL/ortho_geotiff/CreranSerpClassified_downsample.tif /Users/matthewtoberman/Dropbox/TRITONIA/CIVTECH/PORTAL/ortho_COG/COG_GDAL_CreranSerpClassified_downsample.tif')"
   ]
  },
  {
   "cell_type": "code",
   "execution_count": 55,
   "metadata": {},
   "outputs": [
    {
     "name": "stdout",
     "output_type": "stream",
     "text": [
      "[56.45732135439754, -5.4354643821716255]\n"
     ]
    },
    {
     "name": "stderr",
     "output_type": "stream",
     "text": [
      "/var/folders/_h/fzs7y34n0fn5jt_snsc_tvym0000gn/T/ipykernel_61106/2180653352.py:19: DeprecationWarning: The truth value of an empty array is ambiguous. Returning False, but in future this will result in an error. Use `array.size > 0` to check that an array is not empty.\n",
      "  if survey_df.loc[survey_df['species_name'] == 'Alcyonium digittum']['survey_dash_id'].values == 'ard_bay_2022' :\n"
     ]
    }
   ],
   "source": [
    "import json\n",
    "import pandas as pd\n",
    "# survey json file list\n",
    "survey_json_paths = ['/Users/matthewtoberman/Dropbox/TRITONIA/CIVTECH/PORTAL/meta_data/ard_bay_2022.json', \n",
    "                     '/Users/matthewtoberman/Dropbox/TRITONIA/CIVTECH/PORTAL/meta_data/creran_2023.json',\n",
    "                    \n",
    "]\n",
    "\n",
    "# load all jsons could maybe load on demand in future\n",
    "survey_json_list = []\n",
    "for  survey in survey_json_paths:\n",
    "    with open(survey, 'r') as openfile:\n",
    "        survey_json = json.load(openfile)\n",
    "    survey_json_list.append(survey_json)\n",
    "survey_df = pd.DataFrame.from_dict(survey_json_list)\n",
    "\n",
    "\n",
    "\n",
    "if survey_df.loc[survey_df['species_name'] == 'Alcyonium digittum']['survey_dash_id'].values == 'ard_bay_2022' :\n",
    "    print('yes')\n",
    "\n",
    "# ['survey_dash_id'].values[0] == 'ard_bay_2022'\n",
    "\n",
    "# ['survey_dash_id'].values[0] == 'ard_bay_2022'\n",
    "\n",
    "coords = list(reversed(survey_df.loc[survey_df['survey_dash_id'] == 'ard_bay_2022']['centre_coords'].values[0]))\n",
    "print(coords)"
   ]
  }
 ],
 "metadata": {
  "kernelspec": {
   "display_name": "dash",
   "language": "python",
   "name": "python3"
  },
  "language_info": {
   "codemirror_mode": {
    "name": "ipython",
    "version": 3
   },
   "file_extension": ".py",
   "mimetype": "text/x-python",
   "name": "python",
   "nbconvert_exporter": "python",
   "pygments_lexer": "ipython3",
   "version": "3.10.9"
  },
  "orig_nbformat": 4
 },
 "nbformat": 4,
 "nbformat_minor": 2
}
