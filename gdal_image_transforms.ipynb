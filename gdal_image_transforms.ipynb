{
 "cells": [
  {
   "cell_type": "code",
   "execution_count": 1,
   "metadata": {},
   "outputs": [
    {
     "data": {
      "text/plain": [
       "0"
      ]
     },
     "execution_count": 1,
     "metadata": {},
     "output_type": "execute_result"
    }
   ],
   "source": [
    "##### create single colour TIFF\n",
    "\n",
    "from osgeo import gdal\n",
    "import matplotlib.pyplot as plt\n",
    "import rasterio\n",
    "from rasterio.mask import mask\n",
    "import os\n",
    "import numpy as np\n",
    "\n",
    "\n",
    "dataset = gdal.Open('/Users/matthewtoberman/Dropbox/TRITONIA/CIVTECH/PORTAL/ortho_geotiff/crack_species_only_Orthomosaic.tif',gdal.GA_Update) \n",
    "# dataset.GetRasterBand(4).WriteArray(np.flipud(dataset.GetRasterBand(4).ReadAsArray()))\n",
    "img_width,img_height=dataset.RasterXSize,dataset.RasterYSize\n",
    "dataset.GetRasterBand(1).WriteArray(np.full((img_height, img_width), 255))\n",
    "dataset.GetRasterBand(2).WriteArray(np.full((img_height, img_width), 0))\n",
    "dataset.GetRasterBand(3).WriteArray(np.full((img_height, img_width), 127))\n"
   ]
  },
  {
   "cell_type": "code",
   "execution_count": null,
   "metadata": {},
   "outputs": [],
   "source": [
    "## downsample image\n",
    "os.system('gdalwarp -ts 2000 0  -r average /Users/matthewtoberman/Downloads/CRACK_ID_pink.tif /Users/matthewtoberman/Downloads/CRACK_ID_pink_downsample.tif')"
   ]
  },
  {
   "cell_type": "code",
   "execution_count": 22,
   "metadata": {},
   "outputs": [
    {
     "data": {
      "text/plain": [
       "0"
      ]
     },
     "execution_count": 22,
     "metadata": {},
     "output_type": "execute_result"
    }
   ],
   "source": [
    "##### create synthetic randomised single colour TIFF\n",
    "\n",
    "from osgeo import gdal\n",
    "import matplotlib.pyplot as plt\n",
    "import rasterio\n",
    "from rasterio.mask import mask\n",
    "import os\n",
    "import numpy as np\n",
    "\n",
    "\n",
    "dataset = gdal.Open('/Users/matthewtoberman/Downloads/CRACK_ID_pink_downsample_increase_10px.tif',gdal.GA_Update) \n",
    "img_width,img_height=dataset.RasterXSize,dataset.RasterYSize\n",
    "# dataset.GetRasterBand(1).WriteArray(np.full((img_height, img_width), 0))\n",
    "# dataset.GetRasterBand(2).WriteArray(np.full((img_height, img_width), 0))\n",
    "# dataset.GetRasterBand(3).WriteArray(np.full((img_height, img_width),255))\n",
    "# dataset.GetRasterBand(4).WriteArray(np.fliplr(dataset.GetRasterBand(4).ReadAsArray()))\n",
    "alpha_band = dataset.GetRasterBand(4).ReadAsArray() \n",
    "\n",
    "\n",
    "\n",
    "for idx, x in np.ndenumerate(alpha_band):\n",
    "    if x == 255:\n",
    "        # print(alpha_band[idx[0]-5:idx[0],idx[1]])\n",
    "        (alpha_band[idx[0]-10:idx[0],idx[1]-10:idx[1]]) = 255\n",
    "\n",
    "dataset.GetRasterBand(4).WriteArray(alpha_band)"
   ]
  },
  {
   "cell_type": "code",
   "execution_count": 1,
   "metadata": {},
   "outputs": [
    {
     "name": "stdout",
     "output_type": "stream",
     "text": [
      "(-5.435561017466361, 1.1618198208029895e-07, 0.0, 56.45743657155336, 0.0, -1.1618198208029895e-07)\n",
      "(188408.8943516985, 0.009616686400531847, 0.0, 734770.6543914727, 0.0, -0.009616686400531847)\n"
     ]
    }
   ],
   "source": [
    "from osgeo import gdal\n",
    "import matplotlib.pyplot as plt\n",
    "import rasterio\n",
    "from rasterio.mask import mask\n",
    "import os\n",
    "import numpy as np\n",
    "from osgeo import osr\n",
    "\n",
    "\n",
    "\n",
    "# dataset = gdal.Open('/Users/matthewtoberman/Downloads/CRACK_ID_pink.tif',gdal.GA_Update) \n",
    "\n",
    "# srs = osr.SpatialReference()\n",
    "# srs.SetProjection(dataset.GetProjection())\n",
    "\n",
    "# got = dataset.GetGeoTransform()\n",
    "# print(got)\n",
    "\n",
    "dataset = gdal.Open('/Users/matthewtoberman/Downloads/CRACK_ID_pink_downsample.tif',gdal.GA_Update) \n",
    "\n",
    "srs = osr.SpatialReference()\n",
    "srs.SetProjection(dataset.GetProjection())\n",
    "\n",
    "got = dataset.GetGeoTransform()\n",
    "print(got)\n",
    "\n",
    "\n",
    "# # gdal.Warp('/Users/matthewtoberman/Downloads/CRACK_ID_blue_flipped_downsample_metres.tif','/Users/matthewtoberman/Downloads/CRACK_ID_blue_flipped_downsample.tif',\n",
    "# #           dstSRS=\"EPSG: 27700\")\n",
    "\n",
    "dataset = gdal.Open('/Users/matthewtoberman/Downloads/CRACK_ID_blue_flipped_downsample_metres.tif',gdal.GA_Update) \n",
    "got = dataset.GetGeoTransform()\n",
    "print(got)"
   ]
  },
  {
   "cell_type": "code",
   "execution_count": null,
   "metadata": {},
   "outputs": [],
   "source": []
  },
  {
   "cell_type": "code",
   "execution_count": null,
   "metadata": {},
   "outputs": [],
   "source": []
  },
  {
   "cell_type": "code",
   "execution_count": null,
   "metadata": {},
   "outputs": [],
   "source": [
    "import pandas as pd\n",
    "\n",
    "species_df = pd.DataFrame([100], columns=['Percent Cover'])\n",
    "species_df['Species'] = 'Pink'\n",
    "\n",
    "species_df.loc[len(species_df)] = [150,'blue'] \n",
    "\n",
    "\n",
    "print(species_df)"
   ]
  },
  {
   "cell_type": "code",
   "execution_count": null,
   "metadata": {},
   "outputs": [],
   "source": []
  },
  {
   "cell_type": "code",
   "execution_count": null,
   "metadata": {},
   "outputs": [],
   "source": []
  },
  {
   "cell_type": "code",
   "execution_count": null,
   "metadata": {},
   "outputs": [],
   "source": [
    "\n",
    "\n",
    "# np.random.shuffle(alpha_band)\n",
    "# np.take(alpha_band,np.random.permutation(alpha_band.shape[0]),axis=0,out=alpha_band)\n",
    "alpha_band = dataset.GetRasterBand(4).ReadAsArray() \n",
    "alpha_band[:,:] = 0\n",
    "alpha_band[64000:64100,46000:46100]= 255\n",
    "\n",
    "dataset.GetRasterBand(4).WriteArray(alpha_band)\n",
    "\n",
    "# green_band = dataset.GetRasterBand(2).ReadAsArray() \n",
    "# blue_band = dataset.GetRasterBand(3).ReadAsArray() \n",
    "# print(alpha_band[64000:64100,46000:46100])"
   ]
  },
  {
   "cell_type": "code",
   "execution_count": null,
   "metadata": {},
   "outputs": [],
   "source": [
    "test = (alpha_band[5000:55000,37000:47100])\n"
   ]
  },
  {
   "cell_type": "code",
   "execution_count": null,
   "metadata": {},
   "outputs": [],
   "source": [
    "os.system('gdal_translate -b 4 /Users/matthewtoberman/Downloads/CRACK_ID.tif /Users/matthewtoberman/Downloads/CRACK_ID_alpha_only.tif')"
   ]
  },
  {
   "cell_type": "code",
   "execution_count": null,
   "metadata": {},
   "outputs": [],
   "source": [
    "import numpy as np\n",
    "import gdalnumeric\n",
    "\n",
    "masked_image_path = \"/Users/matthewtoberman/Downloads/CRACK_ID_masked.tif\"\n",
    "raster_file = gdalnumeric.LoadFile(masked_image_path )\n",
    "pixel_count =((raster_file <=0) + (raster_file >= 25)).sum()"
   ]
  }
 ],
 "metadata": {
  "kernelspec": {
   "display_name": "dash",
   "language": "python",
   "name": "python3"
  },
  "language_info": {
   "codemirror_mode": {
    "name": "ipython",
    "version": 3
   },
   "file_extension": ".py",
   "mimetype": "text/x-python",
   "name": "python",
   "nbconvert_exporter": "python",
   "pygments_lexer": "ipython3",
   "version": "3.10.9"
  },
  "orig_nbformat": 4,
  "vscode": {
   "interpreter": {
    "hash": "2b51991d52786c9c5d83e3584188eaa4f1e24893eba2f148093816fab83cb0f8"
   }
  }
 },
 "nbformat": 4,
 "nbformat_minor": 2
}
